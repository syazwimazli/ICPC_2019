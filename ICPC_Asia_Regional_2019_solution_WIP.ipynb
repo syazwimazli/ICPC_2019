{
 "cells": [
  {
   "cell_type": "markdown",
   "id": "d3afa8a4",
   "metadata": {},
   "source": [
    "# Problem A"
   ]
  },
  {
   "cell_type": "markdown",
   "id": "41e42933",
   "metadata": {},
   "source": [
    "**Rocket Simulator**  \n",
    "\n",
    "**Time Limit & Memory Limit: Refer to DOMjudge System**  \n",
    "\n",
    "You are required to make a small rocket simulator. The rocket simulator simulates a rocket\n",
    "travelling in a perfect straight line.  \n",
    "\n",
    "The simulator is required to accept two commands at any point in time.  \n",
    "* Set a velocity target at a particular point in time.\n",
    "* Calculate the distance the rocket travel between two points in time, accounting for all velocity target that have been specified before.  \n",
    "\n",
    "The rocket starts with zero velocity. The rocket will increase or decrease its velocity linearly\n",
    "between two velocity targets. If there are no further velocity target, the rocket will keep its\n",
    "current velocity. The rocket will not have negative velocity (it cannot reverse). No two sets\n",
    "velocity command will have the same time.  \n",
    "\n",
    "Linear velocity change means that the following holds true:  \n",
    "\n",
    "$$\\frac{v_{a}-v_{n}}{t_{a}-t_{n}} = \\frac{v_{n+1}-v_{n}}{t_{n+1}-t_{n}} $$  \n",
    "\n",
    "where $t_{n}$ and $t_{n+1}$ are the time for two consecutive velocity target, $v_{n}$ and $v_{n+1}$ are the velocity for the two consecutive velocity target, $t_{a}$ is any point in time between $t_{n}$ and $t_{n+1}$ and va is the velocity $a_{t}$ time $t_{a}$.  \n",
    "\n",
    "The equation of total distance travelled between two points in time with start and end velocity,\n",
    "assuming linear velocity change between the two time is:  \n",
    "\n",
    "$$\\frac{(v_{1}+v_{2}) \\times (t_{2}-t_{1})}{2}$$  \n",
    "\n",
    "where $t_{1}$ and $t_{2}$ is start time and end time respectively and $v_{1}$ and $v_{2}$ is the start and end velocity\n",
    "respectively.  \n",
    "\n",
    "**Input**  \n",
    "The first line consists of one integer $N (1 ≤ N ≤ 2 × 10^{5})$, the number of commands for the\n",
    "simulator.  \n",
    "\n",
    "The next $N$ lines each represents a command. A set velocity target command starts with the letter $S$ followed by two floating point number $t$ $(0 ≤ t ≤ 10^{3})$ and $v$ $(0 ≤ v ≤ 10^{3})$, which are the time and the target velocity respectively.  \n",
    "\n",
    "A calculate command starts with the letter $C$ followed by two floating point numbers $a, b$ $(0 ≤ a < b ≤ 10^{3})$ which are the start and end time respectively.\n",
    "\n",
    "**Output**  \n",
    "For each calculate command, output a line with a single number which is the total distance the\n",
    "rocket travelled between the two time. Your answer will be considered correct if the absolute\n",
    "or relative error doesn’t exceed $10^{6}$.  \n",
    "\n",
    "|Sample Input | Sample Output |\n",
    "|:------------|:--------------|\n",
    "|6            |25             |\n",
    "|S 5.0 10     |28.75          |\n",
    "|C 0.0 5.0    |26.875         |\n",
    "|C 2.5 6.0    |6.875          |\n",
    "|S 7.0 2.5    |               |\n",
    "|C 2.5 6.0    |               |\n",
    "|C 6.0 8.0    |               |"
   ]
  },
  {
   "cell_type": "markdown",
   "id": "9fbaf08f",
   "metadata": {},
   "source": [
    "## Inputs"
   ]
  },
  {
   "cell_type": "code",
   "execution_count": 1,
   "id": "8deb3c5f",
   "metadata": {
    "ExecuteTime": {
     "end_time": "2022-01-12T08:44:26.929651Z",
     "start_time": "2022-01-12T08:44:26.917683Z"
    }
   },
   "outputs": [],
   "source": [
    "inputarray = [[6],\n",
    "              ['S',5.0,10.0],\n",
    "              ['C',0.0, 5.0],\n",
    "              ['C',2.5, 6.0],\n",
    "              ['S',7.0, 2.5],\n",
    "              ['C',2.5, 6.0],\n",
    "              ['C',6.0, 8.0]\n",
    "             ]"
   ]
  },
  {
   "cell_type": "markdown",
   "id": "11f80901",
   "metadata": {},
   "source": [
    "## Solution"
   ]
  },
  {
   "cell_type": "code",
   "execution_count": 48,
   "id": "be7d148d",
   "metadata": {
    "ExecuteTime": {
     "end_time": "2022-01-12T09:09:36.675054Z",
     "start_time": "2022-01-12T09:09:36.652082Z"
    }
   },
   "outputs": [
    {
     "name": "stdout",
     "output_type": "stream",
     "text": [
      "Answer:\n",
      "25.0\n",
      "28.75\n",
      "26.875\n",
      "6.875\n"
     ]
    }
   ],
   "source": [
    "import numpy as np\n",
    "\n",
    "velgraph_x, velgraph_y = [], []\n",
    "print('Answer:')\n",
    "\n",
    "for i, item in enumerate(inputarray):\n",
    "    #Initialize the initial velocity-time graph\n",
    "    if i == 0:\n",
    "        velgraph_x.append(0)\n",
    "        velgraph_y.append(0)\n",
    "    else:\n",
    "        if item[0] == 'S':\n",
    "            #Extend graph\n",
    "            velgraph_x.append(item[1]) \n",
    "            velgraph_y.append(item[2])\n",
    "            \n",
    "        elif item[0] == 'C':\n",
    "            displacement = 0\n",
    "            #Copy graph\n",
    "            velgraph_x_calc = velgraph_x.copy()\n",
    "            velgraph_y_calc = velgraph_y.copy()\n",
    "            #Loop through start & end time\n",
    "            for time in item[1:]:\n",
    "                #Check if start/end time exist in copied graph\n",
    "                if time not in velgraph_x_calc:\n",
    "                    #If no, check if start/end time is more than last target time\n",
    "                    if time > max(velgraph_x_calc):\n",
    "                        #If yes, append start/end time & velocity to end of graph \n",
    "                        velgraph_x_calc.append(time)\n",
    "                        velgraph_y_calc.append(velgraph_y_calc[-1])\n",
    "                    else:\n",
    "                        #If no, insert start/end time & velocity in the middle of graph\n",
    "                        insertindex = sum(np.array(velgraph_x_calc) < time)\n",
    "                        velocitygradient = (velgraph_y_calc[insertindex]-velgraph_y_calc[insertindex-1])/(velgraph_x_calc[insertindex]-velgraph_x_calc[insertindex-1])\n",
    "                        newvelocity = (time - velgraph_x_calc[insertindex-1])*velocitygradient + velgraph_y_calc[insertindex-1]\n",
    "                        velgraph_x_calc.insert(insertindex, time)\n",
    "                        velgraph_y_calc.insert(insertindex, newvelocity)\n",
    "            #Compute displacement between start & end time\n",
    "            start_idx = velgraph_x_calc.index(item[1])\n",
    "            end_idx   = velgraph_x_calc.index(item[2])\n",
    "            velgraph_x_calc = velgraph_x_calc[start_idx:end_idx+1]\n",
    "            velgraph_y_calc = velgraph_y_calc[start_idx:end_idx+1]\n",
    "            periodcount = len(velgraph_x_calc)\n",
    "            for j in range(periodcount)[1:]:\n",
    "                displacement += np.mean([velgraph_y_calc[j-1:j+1]])*(velgraph_x_calc[j]-velgraph_x_calc[j-1])\n",
    "            #Print displacement\n",
    "            print(displacement)"
   ]
  },
  {
   "cell_type": "markdown",
   "id": "77c5bc30",
   "metadata": {},
   "source": [
    "# Problem B"
   ]
  },
  {
   "cell_type": "markdown",
   "id": "0c0ba836",
   "metadata": {},
   "source": [
    "**Boring Problem**  \n",
    "\n",
    "**Time Limit & Memory Limit: Refer to DOMjudge System**  \n",
    "\n",
    "Mina was attending algorithms class while the teacher was teaching on the famous problem which is called Find the Kth smallest number. This time teacher tried to make the lesson interesting and asked the students to find the Kth largest number. If you have a list with N number and you sorted it in decreasing order, then the Kth largest number is the element in the list with index K. Even with this change that the teacher has made, Mina still finds the lesson and problem boring. So, he decided to add some queries that challenges him more. Initially you start with an empty list. Then there are three types of queries:  \n",
    "\n",
    "* X - which means add X to current list.\n",
    "* Idx - which means you must restore the list which exist before applying query with index Idx, if Idx equals the index of current query, then nothing happens.\n",
    "* K - which means print the Kth largest number, it’s guaranteed that K is ≤ the current size of list.  \n",
    "\n",
    "Now, Mina found the problem more interesting but he doesn’t know how to solve it. Can you help him?  \n",
    "\n",
    "**Input**  \n",
    "First line contains one numbers Q (1 ≤ Q ≤ 106), number of queries. Then Q lines where qi in one of following formats:  \n",
    "* X (1 ≤ X ≤ 106)\n",
    "* Idx (1 ≤ Idx ≤ i), where i is the index of current query.\n",
    "* K (1 ≤ K ≤ Len), where Len is the current size of list before applying this query.\n",
    "\n",
    "**Output**  \n",
    "For each query of type 3 print the Kth largest number.\n",
    "\n",
    "|Sample Input|Sample Output|\n",
    "|:-----------|:------------|\n",
    "|9           |2            |\n",
    "|1 1         |3            |\n",
    "|1 2         |2            |\n",
    "|1 3         |             |\n",
    "|2 3         |             |\n",
    "|3 1         |             |\n",
    "|2 4         |             |\n",
    "|3 1         |             |\n",
    "|2 5         |             |\n",
    "|3 1         |             |\n"
   ]
  },
  {
   "cell_type": "markdown",
   "id": "f1fe527e",
   "metadata": {},
   "source": [
    "## Inputs"
   ]
  },
  {
   "cell_type": "code",
   "execution_count": null,
   "id": "f336ed5a",
   "metadata": {
    "ExecuteTime": {
     "end_time": "2022-01-12T03:06:01.723058Z",
     "start_time": "2022-01-12T03:06:01.704111Z"
    }
   },
   "outputs": [],
   "source": [
    "inputarray = [[9],\n",
    "              [1,1],\n",
    "              [1,2],\n",
    "              [1,3],\n",
    "              [2,3],\n",
    "              [3,1],\n",
    "              [2,4],\n",
    "              [3,1],\n",
    "              [2,5],\n",
    "              [3,1]]"
   ]
  },
  {
   "cell_type": "markdown",
   "id": "d76cb8d5",
   "metadata": {},
   "source": [
    "## Solution"
   ]
  },
  {
   "cell_type": "code",
   "execution_count": null,
   "id": "e5db45da",
   "metadata": {
    "ExecuteTime": {
     "end_time": "2022-01-12T07:32:04.385167Z",
     "start_time": "2022-01-12T07:32:04.371204Z"
    }
   },
   "outputs": [],
   "source": [
    "# import copy\n",
    "\n",
    "# sortlist, listversion = [], []\n",
    "# print('Answer:')\n",
    "\n",
    "# for i, query in enumerate(inputarray):\n",
    "#     if i == 0:\n",
    "#         listversion.append(sortlist.copy())\n",
    "#     else:\n",
    "#         if query[0] == 1:\n",
    "#             sortlist.append(query[1])\n",
    "#         elif query[0] == 2:\n",
    "#             if query[1] != i:\n",
    "#                 sortlist = listversion[query[1]-1].copy()\n",
    "#         elif query[0] == 3:\n",
    "#             kthlarge = sortlist.copy()\n",
    "#             kthlarge.sort(reverse=True)\n",
    "#             print(kthlarge[query[1]-1])\n",
    "#         listversion.append(sortlist.copy())\n",
    "            "
   ]
  },
  {
   "cell_type": "markdown",
   "id": "d2c7e093",
   "metadata": {},
   "source": [
    "# Problem C"
   ]
  },
  {
   "cell_type": "markdown",
   "id": "685a1bcd",
   "metadata": {},
   "source": [
    "**Clash of Clans**  \n",
    "\n",
    "**Time Limit & Memory Limit: Refer to DOMjudge System**\n",
    "\n",
    "Nowadays, everyone plays clash of clans (a video game). In the game, everyone owns a castle and tries to protect it by building post guards around the castle. The enemy tries to penetrate a castle by destroying the post guards. Each post guard has a strength `H` and covers a circular area with center `(X, Y)` and radius `R`. The enemy needs exactly `H` attackers to destroy the post guard and it can shoot enemies in the area it covers. One attacker can only attack one post guard and the attacker will die after attacking the post guard. The enemy will send his attackers and destroy some post guards for making a safe path to the castle. The enemy always wants to minimize the number of attackers who die to make a safe path to the castle.  \n",
    "\n",
    "![alt text](problemj.png \"Title\")\n",
    "\n",
    "You and your enemy are in a `2D` plane which contains a rectangle which is bounded by `(0, 0)`, `(0, m)`, `(n, m)` and `(n, 0)`. Your castle is situated on the right side of `(n, 0)`, `(n, m)` line and the enemy is on the left side of `(0, 0)`, `(0, m)` line. The enemy can’t go around the rectangle to your castle, they must enter the rectangle by the left side of the rectangle and can’t leave the rectangle until reaching the right side of the rectangle. You have `D` dollars. You can invest `1` dollar to increase the strength of one post guard by `1`. You want to increase the strength of a few post guards in such a way that the minimum number of attackers needed by the enemy to make a path is maximized.  \n",
    "\n",
    "**Input**  \n",
    "The first line of the input contains an integer `T`, denoting the number of test cases. Each test case starts with `2` integers `n`, `m` in one line. The next line will have `2` integers `D` and `P`, which represent that you have `D` dollars and `P` post guards. Next `P` lines will have information of each post guard. Each of the next `P` lines will have `4` integers `X_i`, `Y_i`, `R_i` and `H_i`. `X_i`, `Y_i` is the coordinate of the center, `R_i` is the radius of the area it covers and `H_i` is the strength of the i-th post guard.  \n",
    "\n",
    "**Constraints**  \n",
    "* 1 ≤ T ≤ 5  \n",
    "* 10 ≤ n, m ≤ 106  \n",
    "* 1 ≤ D ≤ 109  \n",
    "* 1 ≤ P ≤ 100  \n",
    "* 1 ≤ X_i < n, 1 ≤ Y_i < m  \n",
    "* 1 ≤ R_i ≤ 106, 1 ≤ H_i ≤ 109  \n",
    "\n",
    "\n",
    "**Output**   \n",
    "For each test case, print a line containing the case number and the minimum number of attackers needed by the enemy to make a path, if you increase the strength of a few post guards optimally.  \n",
    "\n",
    "\n",
    "|Sample input   |Sample output   |\n",
    "|:--------------|:---------------|\n",
    "|2              |Case 1: 8       |\n",
    "|10 10          |Case 2: 11      |\n",
    "|2 2            |                |\n",
    "|5 2 3 10       |                |\n",
    "|3 7 3 6        |                |\n",
    "|20 20          |                |\n",
    "|13 5           |                |\n",
    "|15 2 4 10      |                |\n",
    "|12 9 6 6       |                |\n",
    "|5 2 3 10       |                |\n",
    "|6 16 5 2       |                |\n",
    "|16 17 3 4      |                |"
   ]
  },
  {
   "cell_type": "markdown",
   "id": "99eb07cc",
   "metadata": {},
   "source": [
    "## Inputs"
   ]
  },
  {
   "cell_type": "code",
   "execution_count": 284,
   "id": "0645a4d8",
   "metadata": {
    "ExecuteTime": {
     "end_time": "2022-11-25T02:58:18.687099Z",
     "start_time": "2022-11-25T02:58:18.508990Z"
    }
   },
   "outputs": [
    {
     "data": {
      "image/png": "[encoded data removed]",
      "text/plain": [
       "<Figure size 432x288 with 1 Axes>"
      ]
     },
     "metadata": {
      "needs_background": "light"
     },
     "output_type": "display_data"
    }
   ],
   "source": [
    "#Input\n",
    "w, h = 20, 14\n",
    "money, posts_count = 2, 3\n",
    "posts = [(11, 2, 3, 10), (11, 7, 3, 10), (11, 12, 3, 10)] #(x, y, radius, health)\n",
    "visualize_map(posts, w, h)   "
   ]
  },
  {
   "cell_type": "code",
   "execution_count": 95,
   "metadata": {
    "ExecuteTime": {
     "end_time": "2022-11-24T14:04:01.841633Z",
     "start_time": "2022-11-24T14:04:01.474854Z"
    }
   },
   "outputs": [
    {
     "data": {
      "image/png": "[encoded data removed]",
      "text/plain": [
       "<Figure size 432x288 with 1 Axes>"
      ]
     },
     "metadata": {
      "needs_background": "light"
     },
     "output_type": "display_data"
    }
   ],
   "source": [
    "#Input\n",
    "w, h = 20, 10\n",
    "money, posts_count = 2, 4\n",
    "posts = [(5,2,4,10),(5,8,3,2),(15,2,3,2),(15,8,4,10)] ##(x, y, radius, health)\n",
    "visualize_map(posts, w, h) "
   ]
  },
  {
   "cell_type": "code",
   "execution_count": 450,
   "metadata": {
    "ExecuteTime": {
     "end_time": "2022-11-25T04:07:10.733809Z",
     "start_time": "2022-11-25T04:07:10.504593Z"
    },
    "code_folding": [
     4
    ]
   },
   "outputs": [
    {
     "data": {
      "image/png": "[encoded data removed]",
      "text/plain": [
       "<Figure size 432x288 with 1 Axes>"
      ]
     },
     "metadata": {
      "needs_background": "light"
     },
     "output_type": "display_data"
    }
   ],
   "source": [
    "#Input\n",
    "w, h = 20, 15\n",
    "money, posts_count = 2, 8\n",
    "posts = [(10,0,2,10),(10,3,2,10),(10,5,2,10),\n",
    "         (7,7,2,10),(6,10,2,2),(5,14,3,10),\n",
    "         (13,7,2,10),(14,10,2,10),(15,14,3,2)] ##(x, y, radius, health)\n",
    "visualize_map(posts, w, h) "
   ]
  },
  {
   "cell_type": "code",
   "execution_count": 449,
   "metadata": {
    "ExecuteTime": {
     "end_time": "2022-11-25T04:07:08.256889Z",
     "start_time": "2022-11-25T04:07:08.243931Z"
    },
    "code_folding": [
     4
    ]
   },
   "outputs": [],
   "source": [
    "# #Input\n",
    "# w, h = 42, 14\n",
    "# money, posts_count = 2, 8\n",
    "# posts = [(1,1,2,10),\n",
    "#          (8,1,2,10), (8,4,2,10), (8,7,2,10), (8,10,2,10), (8,13,2,2), \n",
    "#          (11,4,2,2),   (14,4,2,10), (17,4,2,10),\n",
    "#          (11,10,2,10),  (14,10,2,10), (17,10,2,2),\n",
    "#          (20,1,2,2), (20,4,2,10), (20,7,2,10), (20,10,2,10), (20,13,2,10), \n",
    "#          (27,1,2,10), (27,4,2,10), (27,7,2,10), (27,10,2,10), (27,13,2,2), \n",
    "#          (34,1,2,2), (34,4,2,10), (34,7,2,10), (34,10,2,10), (34,13,2,10)] ##(x, y, radius, health)\n",
    "# visualize_map(posts, w, h) "
   ]
  },
  {
   "cell_type": "code",
   "execution_count": 405,
   "metadata": {
    "ExecuteTime": {
     "end_time": "2022-11-25T03:49:10.206569Z",
     "start_time": "2022-11-25T03:49:10.189578Z"
    },
    "code_folding": [
     4
    ]
   },
   "outputs": [],
   "source": [
    "# #Input\n",
    "# w, h = 60, 27\n",
    "# money, posts_count = 2, 8\n",
    "# posts = [(8,1,2,10), (8,4,2,10), (8,7,2,10), (8,10,2,10), (8,13,2,10), (8,16,2,10),(8,19,2,10), (8,22,2,10), (8,25,2,2),\n",
    "#          (11,3,2,2),   (14,3,2,10), (17,3,2,10),\n",
    "#          (11,9,2,10),  (14,9,2,10), (17,9,2,2),\n",
    "#          (11,15,2,2),  (14,15,2,10), (17,15,2,10),\n",
    "#          (11,21,2,10), (14,21,2,10), (17,21,2,2),\n",
    "#          (20,1,2,2), (20,4,2,10), (20,7,2,10), (20,10,2,10), (20,13,2,10), (20,16,2,10), (20,19,2,10), (20,22,2,10), (20,25,2,10),\n",
    "#          (27,1,2,10), (27,4,2,10), (27,7,2,10), (27,10,2,10), (27,13,2,10), (27,16,2,10), (27,19,2,10), (27,22,2,10), (27,25,2,2),\n",
    "#          (34,1,2,2), (34,4,2,10), (34,7,2,10), (34,10,2,10), (34,13,2,10), (34,16,2,10), (34,19,2,10), (34,22,2,10), (34,25,2,10),\n",
    "#          (41,1,2,10), (41,4,2,10), (41,7,2,10), (41,10,2,10), (41,13,2,10), (41,16,2,10), (41,19,2,10), (41,22,2,10), (41,25,2,2),\n",
    "#          (48,1,2,2), (48,4,2,10), (48,7,2,10), (48,10,2,10), (48,13,2,10), (48,16,2,10), (48,19,2,10), (48,22,2,10), (48,25,2,10),\n",
    "#          (55,1,2,10), (55,4,2,10), (55,7,2,10), (55,10,2,10), (55,13,2,10), (55,16,2,10), (55,19,2,10), (55,22,2,10), (55,25,2,2)] ##(x, y, radius, health)\n",
    "# visualize_map(posts, w, h) "
   ]
  },
  {
   "cell_type": "markdown",
   "id": "3e1fcda7",
   "metadata": {
    "ExecuteTime": {
     "end_time": "2022-01-11T00:54:33.949431Z",
     "start_time": "2022-01-11T00:54:33.933475Z"
    }
   },
   "source": [
    "## Solution"
   ]
  },
  {
   "cell_type": "code",
   "execution_count": 451,
   "metadata": {
    "ExecuteTime": {
     "end_time": "2022-11-25T04:07:13.839843Z",
     "start_time": "2022-11-25T04:07:13.832829Z"
    }
   },
   "outputs": [],
   "source": [
    "import pandas as pd\n",
    "import matplotlib.pyplot as plt"
   ]
  },
  {
   "cell_type": "code",
   "execution_count": 452,
   "metadata": {
    "ExecuteTime": {
     "end_time": "2022-11-25T04:07:14.696607Z",
     "start_time": "2022-11-25T04:07:14.619853Z"
    },
    "code_folding": [
     0,
     22,
     55
    ],
    "scrolled": true
   },
   "outputs": [
    {
     "data": {
      "text/html": [
       "<div>\n",
       "<style scoped>\n",
       "    .dataframe tbody tr th:only-of-type {\n",
       "        vertical-align: middle;\n",
       "    }\n",
       "\n",
       "    .dataframe tbody tr th {\n",
       "        vertical-align: top;\n",
       "    }\n",
       "\n",
       "    .dataframe thead th {\n",
       "        text-align: right;\n",
       "    }\n",
       "</style>\n",
       "<table border=\"1\" class=\"dataframe\">\n",
       "  <thead>\n",
       "    <tr style=\"text-align: right;\">\n",
       "      <th></th>\n",
       "      <th>0</th>\n",
       "      <th>1</th>\n",
       "      <th>2</th>\n",
       "      <th>3</th>\n",
       "      <th>4</th>\n",
       "      <th>5</th>\n",
       "      <th>6</th>\n",
       "      <th>7</th>\n",
       "      <th>8</th>\n",
       "      <th>9</th>\n",
       "      <th>10</th>\n",
       "    </tr>\n",
       "  </thead>\n",
       "  <tbody>\n",
       "    <tr>\n",
       "      <th>0</th>\n",
       "      <td>0.0</td>\n",
       "      <td>0.0</td>\n",
       "      <td>0.0</td>\n",
       "      <td>0.0</td>\n",
       "      <td>0.0</td>\n",
       "      <td>0.0</td>\n",
       "      <td>1.0</td>\n",
       "      <td>0.0</td>\n",
       "      <td>0.0</td>\n",
       "      <td>1.0</td>\n",
       "      <td>0.0</td>\n",
       "    </tr>\n",
       "    <tr>\n",
       "      <th>1</th>\n",
       "      <td>0.0</td>\n",
       "      <td>0.0</td>\n",
       "      <td>1.0</td>\n",
       "      <td>0.0</td>\n",
       "      <td>0.0</td>\n",
       "      <td>0.0</td>\n",
       "      <td>0.0</td>\n",
       "      <td>0.0</td>\n",
       "      <td>0.0</td>\n",
       "      <td>0.0</td>\n",
       "      <td>1.0</td>\n",
       "    </tr>\n",
       "    <tr>\n",
       "      <th>2</th>\n",
       "      <td>0.0</td>\n",
       "      <td>1.0</td>\n",
       "      <td>0.0</td>\n",
       "      <td>1.0</td>\n",
       "      <td>0.0</td>\n",
       "      <td>0.0</td>\n",
       "      <td>0.0</td>\n",
       "      <td>0.0</td>\n",
       "      <td>0.0</td>\n",
       "      <td>0.0</td>\n",
       "      <td>0.0</td>\n",
       "    </tr>\n",
       "    <tr>\n",
       "      <th>3</th>\n",
       "      <td>0.0</td>\n",
       "      <td>0.0</td>\n",
       "      <td>1.0</td>\n",
       "      <td>0.0</td>\n",
       "      <td>1.0</td>\n",
       "      <td>0.0</td>\n",
       "      <td>0.0</td>\n",
       "      <td>1.0</td>\n",
       "      <td>0.0</td>\n",
       "      <td>0.0</td>\n",
       "      <td>0.0</td>\n",
       "    </tr>\n",
       "    <tr>\n",
       "      <th>4</th>\n",
       "      <td>0.0</td>\n",
       "      <td>0.0</td>\n",
       "      <td>0.0</td>\n",
       "      <td>1.0</td>\n",
       "      <td>0.0</td>\n",
       "      <td>1.0</td>\n",
       "      <td>0.0</td>\n",
       "      <td>0.0</td>\n",
       "      <td>0.0</td>\n",
       "      <td>0.0</td>\n",
       "      <td>0.0</td>\n",
       "    </tr>\n",
       "    <tr>\n",
       "      <th>5</th>\n",
       "      <td>0.0</td>\n",
       "      <td>0.0</td>\n",
       "      <td>0.0</td>\n",
       "      <td>0.0</td>\n",
       "      <td>1.0</td>\n",
       "      <td>0.0</td>\n",
       "      <td>1.0</td>\n",
       "      <td>0.0</td>\n",
       "      <td>0.0</td>\n",
       "      <td>0.0</td>\n",
       "      <td>0.0</td>\n",
       "    </tr>\n",
       "    <tr>\n",
       "      <th>6</th>\n",
       "      <td>1.0</td>\n",
       "      <td>0.0</td>\n",
       "      <td>0.0</td>\n",
       "      <td>0.0</td>\n",
       "      <td>0.0</td>\n",
       "      <td>1.0</td>\n",
       "      <td>0.0</td>\n",
       "      <td>0.0</td>\n",
       "      <td>0.0</td>\n",
       "      <td>0.0</td>\n",
       "      <td>0.0</td>\n",
       "    </tr>\n",
       "    <tr>\n",
       "      <th>7</th>\n",
       "      <td>0.0</td>\n",
       "      <td>0.0</td>\n",
       "      <td>0.0</td>\n",
       "      <td>1.0</td>\n",
       "      <td>0.0</td>\n",
       "      <td>0.0</td>\n",
       "      <td>0.0</td>\n",
       "      <td>0.0</td>\n",
       "      <td>1.0</td>\n",
       "      <td>0.0</td>\n",
       "      <td>0.0</td>\n",
       "    </tr>\n",
       "    <tr>\n",
       "      <th>8</th>\n",
       "      <td>0.0</td>\n",
       "      <td>0.0</td>\n",
       "      <td>0.0</td>\n",
       "      <td>0.0</td>\n",
       "      <td>0.0</td>\n",
       "      <td>0.0</td>\n",
       "      <td>0.0</td>\n",
       "      <td>1.0</td>\n",
       "      <td>0.0</td>\n",
       "      <td>1.0</td>\n",
       "      <td>0.0</td>\n",
       "    </tr>\n",
       "    <tr>\n",
       "      <th>9</th>\n",
       "      <td>1.0</td>\n",
       "      <td>0.0</td>\n",
       "      <td>0.0</td>\n",
       "      <td>0.0</td>\n",
       "      <td>0.0</td>\n",
       "      <td>0.0</td>\n",
       "      <td>0.0</td>\n",
       "      <td>0.0</td>\n",
       "      <td>1.0</td>\n",
       "      <td>0.0</td>\n",
       "      <td>0.0</td>\n",
       "    </tr>\n",
       "    <tr>\n",
       "      <th>10</th>\n",
       "      <td>0.0</td>\n",
       "      <td>1.0</td>\n",
       "      <td>0.0</td>\n",
       "      <td>0.0</td>\n",
       "      <td>0.0</td>\n",
       "      <td>0.0</td>\n",
       "      <td>0.0</td>\n",
       "      <td>0.0</td>\n",
       "      <td>0.0</td>\n",
       "      <td>0.0</td>\n",
       "      <td>0.0</td>\n",
       "    </tr>\n",
       "  </tbody>\n",
       "</table>\n",
       "</div>"
      ],
      "text/plain": [
       "      0    1    2    3    4    5    6    7    8    9   10\n",
       "0   0.0  0.0  0.0  0.0  0.0  0.0  1.0  0.0  0.0  1.0  0.0\n",
       "1   0.0  0.0  1.0  0.0  0.0  0.0  0.0  0.0  0.0  0.0  1.0\n",
       "2   0.0  1.0  0.0  1.0  0.0  0.0  0.0  0.0  0.0  0.0  0.0\n",
       "3   0.0  0.0  1.0  0.0  1.0  0.0  0.0  1.0  0.0  0.0  0.0\n",
       "4   0.0  0.0  0.0  1.0  0.0  1.0  0.0  0.0  0.0  0.0  0.0\n",
       "5   0.0  0.0  0.0  0.0  1.0  0.0  1.0  0.0  0.0  0.0  0.0\n",
       "6   1.0  0.0  0.0  0.0  0.0  1.0  0.0  0.0  0.0  0.0  0.0\n",
       "7   0.0  0.0  0.0  1.0  0.0  0.0  0.0  0.0  1.0  0.0  0.0\n",
       "8   0.0  0.0  0.0  0.0  0.0  0.0  0.0  1.0  0.0  1.0  0.0\n",
       "9   1.0  0.0  0.0  0.0  0.0  0.0  0.0  0.0  1.0  0.0  0.0\n",
       "10  0.0  1.0  0.0  0.0  0.0  0.0  0.0  0.0  0.0  0.0  0.0"
      ]
     },
     "execution_count": 452,
     "metadata": {},
     "output_type": "execute_result"
    }
   ],
   "source": [
    "def visualize_map(posts=posts, w=w, h=h, select=[], title=''):\n",
    "    angle = np.linspace(0, 2 * np.pi) \n",
    "    figure, ax = plt.subplots() \n",
    "\n",
    "    for i, post in enumerate(posts):\n",
    "        if select:\n",
    "            if i+1 not in select:\n",
    "                continue\n",
    "        radius = post[2]\n",
    "        x = radius * np.cos(angle) + post[0]\n",
    "        y = radius * np.sin(angle) + post[1]\n",
    "        ax.plot(x, y) \n",
    "        ax.text(post[0], post[1], post[3], ha='center', va='center')\n",
    "        ax.set_xlim([0,w])\n",
    "        ax.set_ylim([0,h])\n",
    "        ax.set_xticks(range(w+1))\n",
    "        ax.set_yticks(range(h+1))\n",
    "        ax.set_aspect(1)\n",
    "    plt.title(title)\n",
    "    plt.grid()\n",
    "    plt.show()\n",
    "\n",
    "def create_connectedness_matrix(posts=posts, w=w, h=h):\n",
    "    #instantiate\n",
    "    cMatrix = pd.DataFrame([])\n",
    "    #tower to tower connectedness\n",
    "    for i, t1 in enumerate(posts):\n",
    "        for j, t2 in enumerate(posts):\n",
    "            if i != j:\n",
    "                cMatrix.loc[i+1, str(j+1)] = check_two_tower_connectedness(t1=t1, t2=t2)\n",
    "            else:\n",
    "                cMatrix.loc[i+1, str(j+1)] = 0\n",
    "    #south to tower connectedness\n",
    "    for i, t1 in enumerate(posts):\n",
    "        if t1[1]+t1[2] >= h:\n",
    "            cMatrix.loc[i+1, str(0)] = 1\n",
    "            cMatrix.loc[0, str(i+1)] = 1\n",
    "        else:\n",
    "            cMatrix.loc[i+1, str(0)] = 0\n",
    "            cMatrix.loc[0, str(i+1)] = 0\n",
    "    #north to tower connectedness\n",
    "    n = len(posts)+1\n",
    "    for i, t1 in enumerate(posts):\n",
    "        if t1[1]-t1[2] <= 0:\n",
    "            cMatrix.loc[i+1, str(n)] = 1\n",
    "            cMatrix.loc[n, str(i+1)] = 1\n",
    "        else:\n",
    "            cMatrix.loc[i+1, str(n)] = 0\n",
    "            cMatrix.loc[n, str(i+1)] = 0\n",
    "    #visual clean up\n",
    "    cMatrix = cMatrix.sort_index()\n",
    "    cMatrix = cMatrix[[str(x) for x in list(range(len(posts)+2))]]\n",
    "    cMatrix = cMatrix.fillna(0)\n",
    "    return cMatrix\n",
    "            \n",
    "def check_two_tower_connectedness(t1, t2):\n",
    "    centroid_distance = ((t1[0]-t2[0])**2 + (t1[1]-t2[1])**2)**0.5 #pythagorean theorem\n",
    "    combined_radii    = t1[2]+t2[2]\n",
    "    if centroid_distance > combined_radii:\n",
    "        connectedness = 0\n",
    "    else:\n",
    "        connectedness = 1\n",
    "    return connectedness\n",
    "    \n",
    "cMatrix = create_connectedness_matrix(posts, w, h)    \n",
    "cMatrix"
   ]
  },
  {
   "cell_type": "code",
   "execution_count": 453,
   "metadata": {
    "ExecuteTime": {
     "end_time": "2022-11-25T04:07:17.792905Z",
     "start_time": "2022-11-25T04:07:17.780906Z"
    },
    "code_folding": [
     0
    ]
   },
   "outputs": [
    {
     "data": {
      "text/plain": [
       "[[0, 6, 5, 4, 3, 2, 1, 10], [0, 9, 8, 7, 3, 2, 1, 10]]"
      ]
     },
     "execution_count": 453,
     "metadata": {},
     "output_type": "execute_result"
    }
   ],
   "source": [
    "def get_fences(n, cMatrix=cMatrix, chain=[]):\n",
    "    '''fence = north-south chains'''\n",
    "    #instantiate (start from south)\n",
    "    if len(chain) == 0:\n",
    "        global chains\n",
    "        chains = []\n",
    "        chain = chain + [n+1]\n",
    "        \n",
    "    #OPTIMIZATION: list out unchained\n",
    "    unchain = [x for x in list(range(n+1)) if x not in chain]\n",
    "    \n",
    "    #OPTIMIZATION: list out connected among unchained\n",
    "    unchain_connected = [x for x in unchain if cMatrix.loc[chain[-1], str(x)] == 1]\n",
    "    \n",
    "    #output\n",
    "    if chain[-1]==0:\n",
    "        chains.append(chain[-1::-1])\n",
    "    #keep going\n",
    "    if unchain_connected:\n",
    "        for t in unchain_connected:\n",
    "            get_fences(n, cMatrix, chain+[t])\n",
    "    \n",
    "    return chains\n",
    "\n",
    "fences = get_fences(len(posts), cMatrix)\n",
    "fences"
   ]
  },
  {
   "cell_type": "code",
   "execution_count": 454,
   "metadata": {
    "ExecuteTime": {
     "end_time": "2022-11-25T04:07:20.062831Z",
     "start_time": "2022-11-25T04:07:19.757894Z"
    },
    "scrolled": true
   },
   "outputs": [
    {
     "data": {
      "image/png": "[encoded data removed]",
      "text/plain": [
       "<Figure size 432x288 with 1 Axes>"
      ]
     },
     "metadata": {
      "needs_background": "light"
     },
     "output_type": "display_data"
    },
    {
     "data": {
      "image/png": "[encoded data removed]",
      "text/plain": [
       "<Figure size 432x288 with 1 Axes>"
      ]
     },
     "metadata": {
      "needs_background": "light"
     },
     "output_type": "display_data"
    }
   ],
   "source": [
    "for i, fence in enumerate(fences):\n",
    "    visualize_map(posts, w, h, fence, f'Fence #{i+1}') "
   ]
  },
  {
   "cell_type": "code",
   "execution_count": 455,
   "metadata": {
    "ExecuteTime": {
     "end_time": "2022-11-25T04:07:25.013860Z",
     "start_time": "2022-11-25T04:07:24.907648Z"
    },
    "code_folding": [
     0,
     32
    ],
    "scrolled": true
   },
   "outputs": [
    {
     "name": "stdout",
     "output_type": "stream",
     "text": [
      "Trial #1 current_best=4, trial_strat=[5, 9]\n",
      "Trial #2 current_best=4, trial_strat=[5, 6]\n",
      "Trial #3 current_best=4, trial_strat=[5, 7]\n",
      "Trial #4 current_best=4, trial_strat=[5, 8]\n",
      "Trial #5 current_best=4, trial_strat=[5]\n",
      "Trial #6 current_best=4, trial_strat=[9]\n",
      "Trial #7 current_best=4, trial_strat=[1]\n",
      "Trial #8 current_best=4, trial_strat=[2]\n",
      "Trial #9 current_best=4, trial_strat=[3]\n",
      "Trial #10 current_best=4, trial_strat=[4]\n",
      "Trial #11 current_best=4, trial_strat=[6]\n",
      "Trial #12 current_best=4, trial_strat=[7]\n",
      "Trial #13 current_best=4, trial_strat=[8]\n",
      "13 out of 4.09E+5 possible strategies\n"
     ]
    },
    {
     "data": {
      "text/plain": [
       "([5, 9], 4)"
      ]
     },
     "execution_count": 455,
     "metadata": {},
     "output_type": "execute_result"
    }
   ],
   "source": [
    "def get_offensive_strategies(w, h, posts, remaining, strat=[], strat_resource=0):\n",
    "    #instantiate (start from south)\n",
    "    if len(strat) == 0:\n",
    "        global best_strat, best_resource, n_trials\n",
    "        best_strat, best_resource = [], 9999999999\n",
    "    \n",
    "    #iterate each posts\n",
    "    for t in remaining:\n",
    "        #OPTIMIZATION: skip permutation ie monotonous strat sequence only\n",
    "        if strat:\n",
    "            if strat[-1] >= t:\n",
    "                continue\n",
    "        #add post to strat\n",
    "        strat = strat + [t]\n",
    "        strat_resource = strat_resource + posts[t-1][3]\n",
    "        #better than best?\n",
    "        if strat_resource < best_resource:\n",
    "            #breach: output\n",
    "            if check_for_breach([x+1 for x in range(len(posts)) if x+1 not in strat], posts, w, h):\n",
    "                best_strat = strat.copy()\n",
    "                best_resource = strat_resource\n",
    "            #not breach: keep going\n",
    "            else:\n",
    "                get_offensive_strategies(w, h, posts, [x for x in remaining if x not in strat], strat, strat_resource)\n",
    "        #remove post to strat\n",
    "        n_trials += 1\n",
    "        print(f'Trial #{n_trials} current_best={best_resource}, trial_strat={strat}')\n",
    "        strat.remove(t)\n",
    "        strat_resource = strat_resource - posts[t-1][3]\n",
    "    \n",
    "    return best_strat, best_resource\n",
    "\n",
    "def check_for_breach(remaining, posts, w, h):\n",
    "    posts = [x for i, x in enumerate(posts) if i+1 in remaining]\n",
    "    cMatrix = create_connectedness_matrix(posts, w, h)  \n",
    "    fences = get_fences(len(posts), cMatrix)\n",
    "    return False if fences else True\n",
    "\n",
    "#OPTIMIZATION: sort less expensive first\n",
    "sorted_posts   = list(pd.DataFrame(posts, columns=['x','y','rad','health']).sort_values(['health']).index)\n",
    "\n",
    "#OPTIMIZATION: exclude irrelevant \n",
    "posts_in_fence = list(set([x for sublist in fences for x in sublist]))\n",
    "posts_in_fence = [x for x in posts_in_fence if x != 0 and x != len(posts)+1]\n",
    "posts_in_fence = [x+1 for x in sorted_posts if x+1 in posts_in_fence]\n",
    "\n",
    "def get_total_perm(n):\n",
    "    total = 0\n",
    "    for i in range(n+1):\n",
    "        perm = 1\n",
    "        for j in range(i):\n",
    "            perm = perm*(j+1)\n",
    "        total = total + perm\n",
    "    total = str(total)\n",
    "    total = total[0] + '.' + total[1:3] + 'E+' + str(len(total)-1)\n",
    "    return total\n",
    "\n",
    "global n_trials\n",
    "n_trials = 0\n",
    "total = get_total_perm(len(posts))\n",
    "best_strat, best_resource = get_offensive_strategies(w, h, posts, posts_in_fence)\n",
    "    \n",
    "print(f'{n_trials} out of {total} possible strategies')\n",
    "best_strat, best_resource"
   ]
  },
  {
   "cell_type": "code",
   "execution_count": 456,
   "metadata": {
    "ExecuteTime": {
     "end_time": "2022-11-25T04:07:43.329845Z",
     "start_time": "2022-11-25T04:07:43.029369Z"
    }
   },
   "outputs": [
    {
     "data": {
      "image/png": "[encoded data removed]",
      "text/plain": [
       "<Figure size 432x288 with 1 Axes>"
      ]
     },
     "metadata": {
      "needs_background": "light"
     },
     "output_type": "display_data"
    },
    {
     "data": {
      "image/png": "[encoded data removed]",
      "text/plain": [
       "<Figure size 432x288 with 1 Axes>"
      ]
     },
     "metadata": {
      "needs_background": "light"
     },
     "output_type": "display_data"
    }
   ],
   "source": [
    "visualize_map(posts, w, h, best_strat, title='best strategy')\n",
    "visualize_map(posts, w, h, [i+1 for i,x in enumerate(posts) if i+1 not in best_strat], title='result') "
   ]
  },
  {
   "cell_type": "markdown",
   "id": "3f5c545f",
   "metadata": {},
   "source": [
    "# Problem D"
   ]
  },
  {
   "cell_type": "markdown",
   "id": "f58f0c3f",
   "metadata": {},
   "source": [
    "**Polynomial Extrapolation**  \n",
    "\n",
    "**Time Limit & Memory Limit: Refer to DOMjudge System**  \n",
    "\n",
    "We are given a sequence `𝑎0, 𝑎1, 𝑎2, …., 𝑎𝑁`. For each `𝑖` between 0 to 𝑁 (inclusive) `𝑎𝑖` represents the value of the polynomial `(𝐶𝑁−1∗ 𝑋𝑁−1 + 𝐶𝑁−2∗ 𝑋𝑁−2 + ...+ 𝐶2∗ 𝑋2 +𝐶1∗ 𝑋1 + 𝐶0∗ 𝑋0) % 10007` for `𝑋=𝑖`. Given `𝐾` let us compute the value of `𝑎𝐾`.  \n",
    "\n",
    "**Input**  \n",
    "Input starts with `T`, the number of test cases. Each test case consists of two lines. First line contains two integers `𝑁` and `K`. Second line contains `𝑁+1` integers representing the sequence `𝑎0, 𝑎1, 𝑎2, …., 𝑎𝑁`.\n",
    "\n",
    "**Output**  \n",
    "For each test case, output a single integer 𝑎𝐾 in a single line.  \n",
    "\n",
    "Constraints\n",
    "* `1≤𝑇≤ 100`\n",
    "* `1≤𝑁≤ 20`\n",
    "* `𝑁<𝐾≤ 1017`\n",
    "* `0 ≤ 𝑎𝑖≤ 10007`\n",
    "* `0 ≤ 𝐶𝑖≤ 10007` (Please note that even though `𝐶𝑖` will not be part of the input it is guaranteed that the coefficients of the polynomial will be in this range.)  \n",
    "\n",
    "|Sample input   |Sample output   |\n",
    "|:--------------|:---------------|\n",
    "|6              |5               |\n",
    "|2 5            |16              |\n",
    "|0 1 2          |43              |\n",
    "|3 4            |64              |\n",
    "|0 1 4 9        |81              | \n",
    "|3 6            |3304            |\n",
    "|1 3 7 13       |                |\n",
    "|3 7            |                |\n",
    "|1 4 9 16       |                |\n",
    "|3 7            |                |\n",
    "|4 9 16 25      |                |\n",
    "|3 1000         |                |\n",
    "|4 9 16 25      |                |\n"
   ]
  },
  {
   "cell_type": "markdown",
   "id": "42bd9d97",
   "metadata": {},
   "source": [
    "## Input"
   ]
  },
  {
   "cell_type": "code",
   "execution_count": null,
   "id": "890500cc",
   "metadata": {
    "ExecuteTime": {
     "end_time": "2022-01-12T02:03:45.816111Z",
     "start_time": "2022-01-12T02:03:45.806139Z"
    }
   },
   "outputs": [],
   "source": [
    "import numpy as np\n",
    "\n",
    "inputarray = [[6],\n",
    "              [2, 5],\n",
    "              [0, 1, 2],\n",
    "              [3, 4],\n",
    "              [0, 1, 4, 9],\n",
    "              [3, 6],\n",
    "              [1, 3, 7, 13],\n",
    "              [3, 7],\n",
    "              [1, 4, 9, 16],\n",
    "              [3, 7],\n",
    "              [4, 9, 16, 25],\n",
    "              [3, 1000],\n",
    "              [4, 9, 16, 25]]\n"
   ]
  },
  {
   "cell_type": "markdown",
   "id": "a9c6c4f8",
   "metadata": {},
   "source": [
    "## Solution"
   ]
  },
  {
   "cell_type": "code",
   "execution_count": null,
   "id": "1a943fdb",
   "metadata": {
    "ExecuteTime": {
     "end_time": "2022-01-12T02:05:14.291160Z",
     "start_time": "2022-01-12T02:05:14.267132Z"
    }
   },
   "outputs": [],
   "source": [
    "# answers = []\n",
    "# for caseno in range(inputarray[0][0]):\n",
    "#     N = inputarray[(caseno+1)*2-1][0]\n",
    "#     K = inputarray[(caseno+1)*2-1][1]\n",
    "#     seq = inputarray[(caseno+1)*2]\n",
    "#     matrix = []\n",
    "#     for i in range(N+1):\n",
    "#         equation = []\n",
    "#         for j in range(N):\n",
    "#             equation.append(i**(N-j-1))\n",
    "#         matrix.append(equation)\n",
    "#     A = np.array(matrix)\n",
    "#     B = np.array(seq)\n",
    "#     X = np.linalg.solve(A[:-1],B[:-1])\n",
    "#     answer = []\n",
    "#     for i in range(N):\n",
    "#         answer.append(X[i]*K**(N-i-1))\n",
    "#     answer = sum(answer) % 10007\n",
    "#     answers.append(answer)\n",
    "\n",
    "# print('Answer: {}'.format(answers))"
   ]
  },
  {
   "cell_type": "markdown",
   "id": "c6a18b9a",
   "metadata": {},
   "source": [
    "# Problem E"
   ]
  },
  {
   "cell_type": "markdown",
   "id": "47282e48",
   "metadata": {},
   "source": [
    "**Flooding**  \n",
    "\n",
    "**Time Limit & Memory Limit: Refer to DOMjudge System**  \n",
    "\n",
    "You are making a 2D simulation. The simulated world is represented by an `n × m` grid. In the simulation, each cell can represent a house, a water source and a water barricade. The purpose of the simulator is to determine how many house or houses will be flooded given some water source.  \n",
    "\n",
    "**Input**  \n",
    "The first line of the input consists of two integers `n` and `m` `(0 ≤ n, m ≤ 1000)` which is the number of rows and column that represent the map. The next `n` line consists of a string of `m` characters which made up a grid which represent the map of the simulated world. In the grid, character `‘_’` (underscore) represents a cell of water source. Character `‘.’` represents a space in which the water can flow. Character `‘H’` represents a house. And character `‘#’` represents water barricade that water can’t traverse. The water source has infinite supply of water. The water can flow to all eight directions, up, up right, right, down right, down, down left, left and up left. The water can flow through a house. The water cannot flow through the water barricade and the water cannot flow outside the map.  \n",
    "\n",
    "**Output**  \n",
    "Print a single integer, the number of house or houses that will not be flooded.  \n",
    "\n",
    "|Sample Input 1 | Sample Output 1 |\n",
    "|:--------------|:----------------|\n",
    "|10 10          |4                |\n",
    "|..H#...__.     |                 |\n",
    "|...#...__.     |                 |\n",
    "|.H.#...__.     |                 |\n",
    "|...#.H.__.     |                 |\n",
    "|...#...__.     |                 |\n",
    "|..H#...__.     |                 |\n",
    "|...#...__.     |                 |\n",
    "|.H.#H..__.     |                 |\n",
    "|...#...__.     |                 |\n",
    "|...#...__.     |                 |"
   ]
  },
  {
   "cell_type": "markdown",
   "id": "f33ba0c0",
   "metadata": {},
   "source": [
    "## Inputs"
   ]
  },
  {
   "cell_type": "code",
   "execution_count": null,
   "id": "59423f40",
   "metadata": {
    "ExecuteTime": {
     "end_time": "2022-01-11T23:57:08.705078Z",
     "start_time": "2022-01-11T23:57:08.698097Z"
    }
   },
   "outputs": [],
   "source": [
    "inputmap = [['.', '.', 'H', '#', '.', '.', '.', '_', '_', '.'],\n",
    "            ['.', '.', '.', '#', '.', '.', '.', '_', '_', '.'],\n",
    "            ['.', 'H', '.', '#', '.', '.', '.', '_', '_', '.'],\n",
    "            ['.', '.', '.', '#', '.', 'H', '.', '_', '_', '.'],\n",
    "            ['.', '.', '.', '#', '.', '.', '.', '_', '_', '.'],\n",
    "            ['.', '.', 'H', '#', '.', '.', '.', '_', '_', '.'],\n",
    "            ['.', '.', '.', '#', '.', '.', '.', '_', '_', '.'],\n",
    "            ['.', 'H', '.', '#', 'H', '.', '.', '_', '_', '.'],\n",
    "            ['.', '.', '.', '#', '.', '.', '.', '_', '_', '.'],\n",
    "            ['.', '.', '.', '#', '.', '.', '.', '_', '_', '.']]"
   ]
  },
  {
   "cell_type": "code",
   "execution_count": null,
   "id": "26203a03",
   "metadata": {
    "ExecuteTime": {
     "end_time": "2022-01-12T02:22:35.509797Z",
     "start_time": "2022-01-12T02:22:35.497795Z"
    }
   },
   "outputs": [],
   "source": [
    "inputmap = [['.', '.', '.', '.', '.', '.', '.', '_', '_', '.'],\n",
    "            ['.', '#', '#', '#', '.', '.', '.', '_', '_', '.'],\n",
    "            ['.', '#', '.', '#', '.', '.', '.', '_', '_', '.'],\n",
    "            ['.', '#', '.', '#', '.', '.', '.', '_', '_', '.'],\n",
    "            ['.', '#', '.', '#', '.', '.', '.', '_', '_', '.'],\n",
    "            ['.', '#', 'H', '#', '.', '.', '.', '_', '_', '.'],\n",
    "            ['.', '#', '.', '#', '#', '#', '.', '_', '_', '.'],\n",
    "            ['.', '#', '#', '.', 'H', '#', '.', '_', '_', '.'],\n",
    "            ['#', 'H', '#', '.', '#', '#', '.', '_', '_', '.'],\n",
    "            ['#', '.', '#', '.', '#', '.', '.', '_', '_', '.']]"
   ]
  },
  {
   "cell_type": "markdown",
   "id": "c60bf824",
   "metadata": {},
   "source": [
    "## Solution"
   ]
  },
  {
   "cell_type": "code",
   "execution_count": null,
   "id": "f7ee32e5",
   "metadata": {
    "ExecuteTime": {
     "end_time": "2022-01-12T02:26:04.450699Z",
     "start_time": "2022-01-12T02:26:04.416788Z"
    },
    "code_folding": [],
    "scrolled": false
   },
   "outputs": [],
   "source": [
    "def spill(i, j, workmap, answer):\n",
    "    u  = (max(i-1,0)  ,     j       )\n",
    "    d  = (min(i+1,h-1),     j       )\n",
    "    l  = (i           , max(j-1,0)  )\n",
    "    r  = (i           , min(j+1,w-1))\n",
    "    ul = (max(i-1,0)  , max(j-1,0)  )\n",
    "    dl = (min(i+1,h-1), max(j-1,0)  )\n",
    "    ur = (max(i-1,0)  , min(j+1,w-1))\n",
    "    dr = (min(i+1,h-1), min(j+1,w-1))\n",
    "    \n",
    "    directions = [u,d,l,r,ul,dl,ur,dr]\n",
    "    \n",
    "    for direction in directions:\n",
    "        if inputmap[direction[0]][direction[1]] != '_':\n",
    "            if workmap[direction[0]][direction[1]] in ('.','H'):\n",
    "                if workmap[direction[0]][direction[1]] == 'H':\n",
    "                    answer += 1\n",
    "                workmap[direction[0]][direction[1]] = '_'\n",
    "                workmap, answer = spill(direction[0], direction[1], workmap, answer)\n",
    "    \n",
    "    return workmap, answer\n",
    "\n",
    "import copy\n",
    "\n",
    "answer = 0\n",
    "h, w = len(map), len(map[0])\n",
    "workmap = copy.deepcopy(inputmap)\n",
    "\n",
    "for i in range(h):\n",
    "    for j in range(w):\n",
    "        if inputmap[i][j] == '_' and workmap[i][j] == '_':\n",
    "            workmap, answer = spill(i, j, workmap, answer)\n",
    "            \n",
    "'original map', inputmap, 'flooded map', workmap, 'Answer: {} house{} flooded'.format(answer, 's' if answer > 1 else '')"
   ]
  },
  {
   "cell_type": "markdown",
   "id": "f975aa13",
   "metadata": {},
   "source": [
    "# Problem F"
   ]
  },
  {
   "cell_type": "markdown",
   "id": "a97ef662",
   "metadata": {},
   "source": [
    "**Minimum and Maximum Base**  \n",
    "\n",
    "**Time Limit & Memory Limit: Refer to DOMjudge System**  \n",
    "\n",
    "Given $n$ and $t$ you will have to find minimum and maximum positive integer bases in which $n!$ (Factorial $n$) has exactly $t$ zeros.\n",
    "\n",
    "**Input**  \n",
    "The input file contains `10000` lines of inputs. Each line contains two integers $n$ $(2 ≤ n ≤ 100000)$ and $t$ $(2 ≤ t ≤ 10000)$. Input is terminated by a line containing a two zeroes. This line should not be processed.\n",
    "\n",
    "**Output**  \n",
    "For each line of input, produce one line of output. This line should contain modulo `1000007` values of min and max. Here min is the smallest possible base where $n!$ has exactly $t$ zeroes and max is the largest possible base where $n!$ has exactly $t$ zeroes. If no such base is found, then print two `-1` instead.\n",
    "\n",
    "|Sample Input|Sample Output|\n",
    "|---|---|\n",
    "|5 5|-1 -1|\n",
    "|100 5|17 353355|\n",
    "|0 0|\n",
    "\n"
   ]
  },
  {
   "cell_type": "markdown",
   "id": "b5ce3d72",
   "metadata": {},
   "source": [
    "## Inputs"
   ]
  },
  {
   "cell_type": "code",
   "execution_count": null,
   "id": "61053ec7",
   "metadata": {},
   "outputs": [],
   "source": [
    "inputarray = [[5,5],\n",
    "              [100,5],\n",
    "              [0,0]\n",
    "             ]"
   ]
  },
  {
   "cell_type": "markdown",
   "metadata": {},
   "source": [
    "## Solution"
   ]
  },
  {
   "cell_type": "code",
   "execution_count": 76,
   "id": "017be3b1",
   "metadata": {
    "ExecuteTime": {
     "end_time": "2022-01-12T09:25:59.895523Z",
     "start_time": "2022-01-12T09:25:59.881559Z"
    },
    "scrolled": true
   },
   "outputs": [
    {
     "data": {
      "text/plain": [
       "2"
      ]
     },
     "execution_count": 76,
     "metadata": {},
     "output_type": "execute_result"
    }
   ],
   "source": [
    "def config_of_n(integer, n):\n",
    "    config = 0\n",
    "    if not integer % n:\n",
    "        config += 1\n",
    "        config += config_of_n(integer / n, n)\n",
    "    return config"
   ]
  },
  {
   "cell_type": "code",
   "execution_count": 57,
   "id": "943f9b59",
   "metadata": {
    "ExecuteTime": {
     "end_time": "2022-01-12T09:22:40.903162Z",
     "start_time": "2022-01-12T09:22:40.888200Z"
    }
   },
   "outputs": [
    {
     "data": {
      "text/plain": [
       "True"
      ]
     },
     "execution_count": 57,
     "metadata": {},
     "output_type": "execute_result"
    }
   ],
   "source": [
    "not 10 % 5"
   ]
  },
  {
   "cell_type": "code",
   "execution_count": null,
   "id": "7fd7edea",
   "metadata": {},
   "outputs": [],
   "source": [
    "# def config_of_n(integer, n):\n",
    "#     config = 0\n",
    "#     if not integer % n:\n",
    "#         config += 1\n",
    "#         config += config_of_n(integer / n, n)\n",
    "#     return config\n",
    "\n",
    "# factorcount2, factorcount5 = 0, 0\n",
    "\n",
    "# for case in inputarray[:-1]:\n",
    "#     while factorcount2 < \n",
    "    "
   ]
  },
  {
   "cell_type": "markdown",
   "id": "9355ac4a",
   "metadata": {},
   "source": [
    "# Problem G"
   ]
  },
  {
   "cell_type": "code",
   "execution_count": null,
   "id": "1cb4dfe9",
   "metadata": {},
   "outputs": [],
   "source": []
  },
  {
   "cell_type": "markdown",
   "id": "8ecb6169",
   "metadata": {},
   "source": [
    "# Problem H"
   ]
  },
  {
   "cell_type": "code",
   "execution_count": null,
   "id": "ea2d3497",
   "metadata": {},
   "outputs": [],
   "source": []
  },
  {
   "cell_type": "markdown",
   "id": "4215374e",
   "metadata": {},
   "source": [
    "# Problem I"
   ]
  },
  {
   "cell_type": "code",
   "execution_count": null,
   "id": "5d5d2144",
   "metadata": {},
   "outputs": [],
   "source": []
  },
  {
   "cell_type": "markdown",
   "id": "c3da921d",
   "metadata": {},
   "source": [
    "# Problem J"
   ]
  },
  {
   "cell_type": "markdown",
   "id": "3436f834",
   "metadata": {},
   "source": [
    "## Inputs"
   ]
  },
  {
   "cell_type": "code",
   "execution_count": 182,
   "id": "f62a446b",
   "metadata": {
    "ExecuteTime": {
     "end_time": "2022-01-13T01:18:29.217239Z",
     "start_time": "2022-01-13T01:18:29.202279Z"
    }
   },
   "outputs": [],
   "source": [
    "inputarray = [[9,1],\n",
    "              [4,1],\n",
    "              [4,2],\n",
    "              [5,2],\n",
    "              [5,0],\n",
    "              [4,-1],\n",
    "              [-5,-1],\n",
    "              [-5,2],\n",
    "              [-4,2],\n",
    "              [-4,1]]"
   ]
  },
  {
   "cell_type": "code",
   "execution_count": 170,
   "id": "03191f2b",
   "metadata": {
    "ExecuteTime": {
     "end_time": "2022-01-13T00:56:02.004805Z",
     "start_time": "2022-01-13T00:56:01.994832Z"
    }
   },
   "outputs": [],
   "source": [
    "inputarray = [[4,1],\n",
    "              [2,2],\n",
    "              [2,1],\n",
    "              [1,1],\n",
    "              [1,2]]"
   ]
  },
  {
   "cell_type": "markdown",
   "id": "9e451f2e",
   "metadata": {},
   "source": [
    "## Solution"
   ]
  },
  {
   "cell_type": "code",
   "execution_count": 183,
   "id": "290f6d89",
   "metadata": {
    "ExecuteTime": {
     "end_time": "2022-01-13T01:18:30.407172Z",
     "start_time": "2022-01-13T01:18:30.285211Z"
    }
   },
   "outputs": [
    {
     "data": {
      "image/png": "[encoded data removed]",
      "text/plain": [
       "<Figure size 432x288 with 1 Axes>"
      ]
     },
     "metadata": {
      "needs_background": "light"
     },
     "output_type": "display_data"
    }
   ],
   "source": [
    "import matplotlib.pyplot as plt\n",
    "import math\n",
    "\n",
    "vertices_x = [row[0] for row in inputarray[1:]]\n",
    "vertices_y = [row[1] for row in inputarray[1:]] \n",
    "\n",
    "def add_detail(vertices_x, vertices_y, min_len):\n",
    "    vertices_x_added = []\n",
    "    vertices_y_added = []\n",
    "    for i in range(len(vertices_x)):\n",
    "        distance = ((vertices_x[(i+1) % len(vertices_x)]-vertices_x[i])**2 + (vertices_y[(i+1) % len(vertices_x)]-vertices_y[i])**2)**0.5\n",
    "        segments = math.ceil(distance/min_len)\n",
    "        delta_x = (vertices_x[(i+1) % len(vertices_x)]-vertices_x[i])/segments\n",
    "        delta_y = (vertices_y[(i+1) % len(vertices_x)]-vertices_y[i])/segments\n",
    "        for j in range(segments):\n",
    "            vertices_x_added.append(vertices_x[i]+(j+1)*delta_x)\n",
    "            vertices_y_added.append(vertices_y[i]+(j+1)*delta_y)\n",
    "    detailed_vertices_x = vertices_x + vertices_x_added\n",
    "    detailed_vertices_y = vertices_y + vertices_y_added\n",
    "    return detailed_vertices_x, detailed_vertices_y\n",
    "\n",
    "detailed_vertices_x, detailed_vertices_y = add_detail(vertices_x, vertices_y, .05)\n",
    "\n",
    "fig, ax = plt.subplots() \n",
    "ax.scatter(detailed_vertices_x, detailed_vertices_y)\n",
    "ax.scatter(vertices_x, vertices_y)\n",
    "ax.grid()\n",
    "ax.set_aspect(1)\n",
    "plt.show()"
   ]
  },
  {
   "cell_type": "code",
   "execution_count": 185,
   "id": "2984781e",
   "metadata": {
    "ExecuteTime": {
     "end_time": "2022-01-13T01:19:10.107929Z",
     "start_time": "2022-01-13T01:19:10.093941Z"
    }
   },
   "outputs": [
    {
     "name": "stdout",
     "output_type": "stream",
     "text": [
      "89.99999999999994\n",
      "90.0\n",
      "90.0\n",
      "116.56505117707798\n",
      "95.71059313749964\n",
      "90.0\n",
      "90.0\n",
      "90.0\n",
      "90.0\n"
     ]
    }
   ],
   "source": [
    "for i, vertex in enumerate(vertices_x):\n",
    "    a = ((vertices_x[i]                      -vertices_x[(i+1) % len(vertices_x)])**2+(vertices_y[i]                      -vertices_y[(i+1) % len(vertices_x)])**2)**0.5\n",
    "    b = ((vertices_x[(i-1) % len(vertices_x)]-vertices_x[(i+1) % len(vertices_x)])**2+(vertices_y[(i-1) % len(vertices_y)]-vertices_y[(i+1) % len(vertices_x)])**2)**0.5\n",
    "    c = ((vertices_x[(i-1) % len(vertices_x)]-vertices_x[i]                      )**2+(vertices_y[(i-1) % len(vertices_y)]-vertices_y[i]                      )**2)**0.5\n",
    "    angle = 360 - math.degrees(math.acos((a**2-b**2+c**2)/2/a/b))\n",
    "    print(360 - angle)"
   ]
  },
  {
   "cell_type": "code",
   "execution_count": 207,
   "id": "9cd63514",
   "metadata": {
    "ExecuteTime": {
     "end_time": "2022-01-13T04:32:33.825677Z",
     "start_time": "2022-01-13T04:32:33.794759Z"
    }
   },
   "outputs": [
    {
     "name": "stdout",
     "output_type": "stream",
     "text": [
      "26.56505117707799\n",
      "45.0\n",
      "63.43494882292201\n",
      "116.56505117707799\n",
      "135.0\n",
      "153.43494882292202\n",
      "206.56505117707798\n",
      "225.0\n",
      "243.43494882292202\n",
      "296.565051177078\n",
      "315.0\n",
      "333.434948822922\n"
     ]
    }
   ],
   "source": [
    "pointpairs = [((0,0),(1,2)),\n",
    "              ((0,0),(2,2)),\n",
    "              ((0,0),(2,1)),\n",
    "\n",
    "              ((0,0),(2,-1)),\n",
    "              ((0,0),(2,-2)),\n",
    "              ((0,0),(1,-2)),\n",
    "\n",
    "              ((0,0),(-1,-2)),\n",
    "              ((0,0),(-2,-2)),\n",
    "              ((0,0),(-2,-1)),\n",
    "\n",
    "              ((0,0),(-2,1)),\n",
    "              ((0,0),(-2,2)),\n",
    "              ((0,0),(-1,2))]\n",
    "\n",
    "for pointpair in pointpairs:\n",
    "    preangle = math.degrees(math.atan(((pointpair[1][1]-pointpair[0][1])/(pointpair[1][0]-pointpair[0][0]))))\n",
    "    startangle = 90 if pointpair[1][0]>=pointpair[0][0] else 270\n",
    "    clockangle = startangle - preangle\n",
    "    print(clockangle)"
   ]
  },
  {
   "cell_type": "code",
   "execution_count": 202,
   "id": "944f9fb3",
   "metadata": {
    "ExecuteTime": {
     "end_time": "2022-01-13T04:16:58.358772Z",
     "start_time": "2022-01-13T04:16:58.339822Z"
    }
   },
   "outputs": [
    {
     "ename": "NameError",
     "evalue": "name 'sign' is not defined",
     "output_type": "error",
     "traceback": [
      "\u001b[1;31m---------------------------------------------------------------------------\u001b[0m",
      "\u001b[1;31mNameError\u001b[0m                                 Traceback (most recent call last)",
      "\u001b[1;32m<ipython-input-202-387588c88832>\u001b[0m in \u001b[0;36m<module>\u001b[1;34m\u001b[0m\n\u001b[1;32m----> 1\u001b[1;33m \u001b[0msign\u001b[0m\u001b[1;33m(\u001b[0m\u001b[1;36m1\u001b[0m\u001b[1;33m)\u001b[0m\u001b[1;33m\u001b[0m\u001b[1;33m\u001b[0m\u001b[0m\n\u001b[0m",
      "\u001b[1;31mNameError\u001b[0m: name 'sign' is not defined"
     ]
    }
   ],
   "source": [
    "q1 = 90-x        + +\n",
    "q2 = 90-x        + -\n",
    "q3 = 270-x       - +\n",
    "q4 = 270-x       - -"
   ]
  }
 ],
 "metadata": {
  "kernelspec": {
   "display_name": "Python 3",
   "language": "python",
   "name": "python3"
  },
  "language_info": {
   "codemirror_mode": {
    "name": "ipython",
    "version": 3
   },
   "file_extension": ".py",
   "mimetype": "text/x-python",
   "name": "python",
   "nbconvert_exporter": "python",
   "pygments_lexer": "ipython3",
   "version": "3.7.3"
  },
  "toc": {
   "base_numbering": 1,
   "nav_menu": {},
   "number_sections": true,
   "sideBar": true,
   "skip_h1_title": false,
   "title_cell": "Table of Contents",
   "title_sidebar": "Contents",
   "toc_cell": false,
   "toc_position": {
    "height": "calc(100% - 180px)",
    "left": "10px",
    "top": "150px",
    "width": "271.594px"
   },
   "toc_section_display": true,
   "toc_window_display": true
  },
  "varInspector": {
   "cols": {
    "lenName": 16,
    "lenType": 16,
    "lenVar": 40
   },
   "kernels_config": {
    "python": {
     "delete_cmd_postfix": "",
     "delete_cmd_prefix": "del ",
     "library": "var_list.py",
     "varRefreshCmd": "print(var_dic_list())"
    },
    "r": {
     "delete_cmd_postfix": ") ",
     "delete_cmd_prefix": "rm(",
     "library": "var_list.r",
     "varRefreshCmd": "cat(var_dic_list()) "
    }
   },
   "types_to_exclude": [
    "module",
    "function",
    "builtin_function_or_method",
    "instance",
    "_Feature"
   ],
   "window_display": false
  }
 },
 "nbformat": 4,
 "nbformat_minor": 5
}
